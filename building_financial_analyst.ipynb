{
 "cells": [
  {
   "cell_type": "markdown",
   "id": "b7182dc4",
   "metadata": {},
   "source": [
    "# <h1 align=\"center\"><font color=\"gree\">Construindo um Analista Financeiro com MCP e CrewAI</font></h1>"
   ]
  },
  {
   "cell_type": "markdown",
   "id": "d8eddc3e",
   "metadata": {},
   "source": [
    "<font color=\"pink\">Senior Data Scientist.: Dr. Eddy Giusepe Chirinos Isidro</font>"
   ]
  },
  {
   "cell_type": "code",
   "execution_count": 1,
   "id": "4680c7c2",
   "metadata": {},
   "outputs": [
    {
     "name": "stderr",
     "output_type": "stream",
     "text": [
      "/home/eddygiusepe/1_github/FinancialAnalyst_powered_by_MCP_using_CrewAI_and_Deepseek-R1/.venv/lib/python3.13/site-packages/pydantic/fields.py:1093: PydanticDeprecatedSince20: Using extra keyword arguments on `Field` is deprecated and will be removed. Use `json_schema_extra` instead. (Extra keys: 'required'). Deprecated in Pydantic V2.0 to be removed in V3.0. See Pydantic V2 Migration Guide at https://errors.pydantic.dev/2.11/migration/\n",
      "  warn(\n"
     ]
    }
   ],
   "source": [
    "import re\n",
    "import json\n",
    "import os\n",
    "import yfinance as yf\n",
    "from crewai import Agent, Task, Crew, Process, LLM\n",
    "from crewai_tools import CodeInterpreterTool, FileReadTool\n",
    "from pydantic import BaseModel, Field\n",
    "\n",
    "\n",
    "class QueryAnalysisOutput(BaseModel):\n",
    "    \"\"\"Saída estruturada para a tarefa de análise de consulta.\"\"\"\n",
    "    symbol: str = Field(description=\"Símbolo de cotação de ações. Exemplo: TSLA, AAPL.\")\n",
    "    timeframe: str = Field(description=\"Período de tempo. Exemplo: '1 dia', '1 mês', '1 ano'.\")\n",
    "    action: str = Field(description=\"Ação a ser realizada. Exemplo: 'buscar', 'plotar'.\")\n",
    "    \n"
   ]
  },
  {
   "cell_type": "code",
   "execution_count": null,
   "id": "837d5905",
   "metadata": {},
   "outputs": [],
   "source": [
    "# VERSÃO SEM DOCKER - Workaround para problema de permissões\n",
    "\n",
    "llm = LLM(\n",
    "    model=\"ollama/deepseek-r1:7b\",\n",
    "    base_url=\"http://localhost:11434\",\n",
    "    # temperature=0.7\n",
    ")\n",
    "\n",
    "# 1) Agente de análise de consulta:\n",
    "query_parser_agent = Agent(\n",
    "    role=\"Analista de Dados de Ações\",\n",
    "    goal=\"Extrair detalhes das ações e buscar dados necessários a partir da consulta do usuário: {query}.\",\n",
    "    backstory=\"Você é um analista financeiro especializado em recuperação de dados de mercado de ações.\",\n",
    "    llm=llm,\n",
    "    verbose=True,\n",
    "    memory=True,\n",
    ")\n",
    "\n",
    "query_parsing_task = Task(\n",
    "    description=\"Analise a consulta do usuário e extraia detalhes das ações.\",\n",
    "    expected_output=\"Um dicionário com as chaves: 'symbol', 'timeframe', 'action'.\",\n",
    "    output_pydantic=QueryAnalysisOutput,\n",
    "    agent=query_parser_agent,\n",
    ")\n",
    "\n",
    "\n",
    "# 2) Agente de escrita de código:\n",
    "code_writer_agent = Agent(\n",
    "    role=\"Desenvolvedor Python Senior\",\n",
    "    goal=\"Escrever código Python para visualizar dados de ações.\",\n",
    "    backstory=\"\"\"Você é um desenvolvedor Python Senior especializado em visualização de dados de mercado de ações. \n",
    "                 Você também é um especialista em bibliotecas Pandas, Matplotlib e yfinance.\n",
    "                 Você é habilidoso em escrever código Python pronto para produção.\"\"\",\n",
    "    llm=llm,\n",
    "    verbose=True,\n",
    ")\n",
    "\n",
    "code_writer_task = Task(\n",
    "    description=\"\"\"Escreva código Python para visualizar dados de ações com base nas entradas do analista de ações,\n",
    "                   onde você encontrará o símbolo da ação, o período de tempo e a ação.\"\"\",\n",
    "    expected_output=\"Um arquivo Python (.py) limpo e executável para visualização de ações.\",\n",
    "    agent=code_writer_agent,\n",
    ")\n",
    "\n",
    "\n",
    "# 3) Agente interpretador de código (usa a ferramenta de interpretação de código da Crewai):\n",
    "code_interpreter_tool = CodeInterpreterTool()\n",
    "\n",
    "code_execution_agent = Agent(\n",
    "    role=\"Especialista Sênior em Execução de Código\",\n",
    "    goal=\"Revise e execute o código Python gerado pelo agente de escrita de código para visualizar dados de estoque.\",\n",
    "    backstory=\"Você é um especialista em execução de código. Você é habilidoso em executar código Python.\",\n",
    "    # tools=[code_interpreter_tool],\n",
    "    allow_code_execution=True,   # Esta linha automaticamente adiciona o CodeInterpreterTool\n",
    "    llm=llm,\n",
    "    verbose=True,\n",
    ")\n",
    "\n",
    "code_execution_task = Task(\n",
    "    description=\"\"\"Revise e execute o código Python gerado pelo agente de escrita de código para visualizar dados de estoque.\"\"\",\n",
    "    expected_output=\"Um arquivo de script Python limpo e executável (.py) para visualização de ações.\",\n",
    "    agent=code_execution_agent,\n",
    ")\n"
   ]
  },
  {
   "cell_type": "code",
   "execution_count": null,
   "id": "064866f8",
   "metadata": {},
   "outputs": [],
   "source": [
    "### --- Configuração CREW --- ###\n",
    "\n",
    "crew = Crew(\n",
    "    agents=[query_parser_agent, code_writer_agent, code_execution_agent],\n",
    "    tasks=[query_parsing_task, code_writer_task, code_execution_task],\n",
    "    process=Process.sequential\n",
    ")\n",
    "\n",
    "# Executa a crewAI com uma consulta de exemplo:\n",
    "result = crew.kickoff(inputs={\"query\": \"Plote a ação da Tesla (TSLA) no período de 2024 até 2025\"})"
   ]
  },
  {
   "cell_type": "code",
   "execution_count": null,
   "id": "930211c6",
   "metadata": {},
   "outputs": [],
   "source": [
    "print(result.raw)"
   ]
  },
  {
   "cell_type": "code",
   "execution_count": null,
   "id": "46809ebd",
   "metadata": {},
   "outputs": [],
   "source": []
  }
 ],
 "metadata": {
  "kernelspec": {
   "display_name": ".venv",
   "language": "python",
   "name": "python3"
  },
  "language_info": {
   "codemirror_mode": {
    "name": "ipython",
    "version": 3
   },
   "file_extension": ".py",
   "mimetype": "text/x-python",
   "name": "python",
   "nbconvert_exporter": "python",
   "pygments_lexer": "ipython3",
   "version": "3.13.2"
  }
 },
 "nbformat": 4,
 "nbformat_minor": 5
}
